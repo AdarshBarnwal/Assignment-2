{
 "cells": [
  {
   "cell_type": "code",
   "execution_count": null,
   "id": "859969a7-10fc-4383-b7f4-182f0c169849",
   "metadata": {},
   "outputs": [],
   "source": [
    "                                            ASSIGNMENT  2\n",
    "\n",
    "Q1. \n",
    "\n",
    "Ans:- \n",
    " marks=int(input(\"enter marks :-\"))\n",
    "if marks>90:\n",
    "        print(\"grade a\")\n",
    "elif marks>80 and marks<=90:\n",
    "        print(\"grade b\")\n",
    "elif marks>=60 and marks<=80:\n",
    "        print(\"grade c\")\n",
    "else:\n",
    "        print(\"grade d\")"
   ]
  },
  {
   "cell_type": "code",
   "execution_count": null,
   "id": "12126f7c-e90f-4f8f-92d7-60560847f8d8",
   "metadata": {},
   "outputs": [],
   "source": [
    "Q2.\n",
    "Ans:- \n",
    "\n",
    "cost_of_bike=int(input(\"enter the cost price of bike:-\"))\n",
    "\n",
    "if cost_of_bike > 1000000:\n",
    "    tax=cost_of_bike*15/100\n",
    "    print(\"road tax =\",tax)\n",
    "elif cost_of_bike > 500000 and cost_of_bike <=100000:\n",
    "    tax=cost_of_bike*10/100\n",
    "    print(\"road tax =\",tax)\n",
    "else:\n",
    "    tax=cost_of_bike*5/100\n",
    "    print(\"road tax =\",tax)"
   ]
  },
  {
   "cell_type": "code",
   "execution_count": null,
   "id": "7569337f-0b0a-4e55-a0af-a570ac248a8c",
   "metadata": {},
   "outputs": [],
   "source": [
    "Q3.\n",
    "Ans:-\n",
    "\n",
    "city=input(\"enter city\")\n",
    "\n",
    "if city==\"Delhi\"\n",
    "    print(\"red fort\")\n",
    "elif city==\"agra\"\n",
    "    print(\"taj mahal\")\n",
    "elif city==(\"jaipur\")\n",
    "    print(\"jai mahal\")"
   ]
  },
  {
   "cell_type": "code",
   "execution_count": null,
   "id": "89cf090d-9152-4808-9525-c0bccf18e321",
   "metadata": {},
   "outputs": [],
   "source": [
    "Q4.\n",
    "Ans:- \n",
    "count=0\n",
    "n=int(input(\"enter a number\"))\n",
    "\n",
    "while n>=10:\n",
    "    count=count+1\n",
    "    n=n/3\n",
    "print(count,\"times can be devided by3 before it is less than or equal to 10.\")"
   ]
  },
  {
   "cell_type": "code",
   "execution_count": null,
   "id": "55b6ae91-07b0-4797-a8da-d00e0acd3271",
   "metadata": {},
   "outputs": [],
   "source": [
    "Q5.\n",
    "Ans:-\n",
    "\n",
    "actually,while loop in python is used to execute a block of statements repeatedly untill a given condition is satisfied\n",
    "and when the condition becomes false,the line immediately after the loop in the program is executed.\n",
    "\n",
    "and the while loop is used when it is impossible to determine the exact number of loop iterations in advance.\n",
    "\n",
    "for example\n",
    "check how many times a given number can be divided by 3 before it is less than equal to 10\n",
    "\n",
    "in this example we do not have any idea , how many time will the loop execute.\n",
    "in this case we should use while loop and already solved this example as Q4\n"
   ]
  },
  {
   "cell_type": "code",
   "execution_count": null,
   "id": "8956741b-258f-4b8b-a23f-3e97c0bbd2a8",
   "metadata": {},
   "outputs": [],
   "source": [
    "Q6. use nested while loop to print 3 different pattern.\n",
    "\n",
    "Ans:- \n",
    "#1st\n",
    "n=int(input(\"enter number of row:-\"))\n",
    "\n",
    "i = 1\n",
    "while i <= n :\n",
    "    j = 1 \n",
    "    while j <= i:\n",
    "        print(\"*\",end = \" \")\n",
    "        j = J+1\n",
    "    print()\n",
    "    i = i+1\n",
    "    \n",
    "#2nd\n",
    "n = int(input(\"enter number of rows :-\"))\n",
    "\n",
    "i = 1\n",
    "while i <= n :\n",
    "    j = n \n",
    "    while j <= i:\n",
    "        print(\"*\",end = \" \")\n",
    "        j = J-1\n",
    "    print()\n",
    "    i = i+1\n",
    "    \n",
    "#3rd\n",
    "\n",
    "i = 1\n",
    "while i <= 5 :\n",
    "    j = 1 \n",
    "    while j <= i:\n",
    "        print(\"*\",end = \" \")\n",
    "        j = J+1\n",
    "    print(\"\")\n",
    "    i = i+1"
   ]
  },
  {
   "cell_type": "code",
   "execution_count": null,
   "id": "5ccd9bfe-e276-4edf-90f9-37788e04acdb",
   "metadata": {},
   "outputs": [],
   "source": [
    "Q7. Reverse a while loop to display numbers from 10 to 1.\n",
    "\n",
    "Ans:- \n",
    "i=10\n",
    "\n",
    "while i<=0;\n",
    "    print(i)\n",
    "    i=i+1"
   ]
  },
  {
   "cell_type": "code",
   "execution_count": null,
   "id": "c0ac1d87-c617-444f-a163-0c3e7736787e",
   "metadata": {},
   "outputs": [],
   "source": [
    "Q8. Reverse a while loop to display numbers from 10 to 1.\n",
    "\n",
    "Ans:- \n",
    "i=10\n",
    "\n",
    "while i<=0;\n",
    "    print(i)\n",
    "    i=i+1"
   ]
  }
 ],
 "metadata": {
  "kernelspec": {
   "display_name": "Python 3 (ipykernel)",
   "language": "python",
   "name": "python3"
  },
  "language_info": {
   "codemirror_mode": {
    "name": "ipython",
    "version": 3
   },
   "file_extension": ".py",
   "mimetype": "text/x-python",
   "name": "python",
   "nbconvert_exporter": "python",
   "pygments_lexer": "ipython3",
   "version": "3.10.8"
  }
 },
 "nbformat": 4,
 "nbformat_minor": 5
}
